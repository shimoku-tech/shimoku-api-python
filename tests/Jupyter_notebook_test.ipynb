{
 "cells": [
  {
   "cell_type": "code",
   "execution_count": null,
   "id": "e42c6353",
   "metadata": {},
   "outputs": [],
   "source": [
    "from os import getenv\n",
    "\n",
    "import pandas as pd\n",
    "\n",
    "import shimoku_api_python as Shimoku\n",
    "from typing import List, Dict\n",
    "import datetime as dt\n",
    "import numpy as np\n",
    "import random\n",
    "import asyncio\n",
    "import time\n",
    "import math"
   ]
  },
  {
   "cell_type": "code",
   "execution_count": null,
   "id": "d4184578",
   "metadata": {},
   "outputs": [],
   "source": [
    "universe_id: str = getenv('UNIVERSE_ID')\n",
    "business_id: str = getenv('BUSINESS_ID')\n",
    "environment: str = getenv('ENVIRONMENT')\n",
    "access_token: str = getenv('API_TOKEN')\n",
    "    \n",
    "initial_time = time.time()\n",
    "s = Shimoku.Client(\n",
    "    access_token=access_token,\n",
    "    universe_id=universe_id,\n",
    "    environment=environment,\n",
    "    verbosity='INFO',\n",
    "    async_execution=True,\n",
    ")\n",
    "s.set_business(uuid=business_id)"
   ]
  },
  {
   "cell_type": "markdown",
   "id": "2f046e10",
   "metadata": {},
   "source": [
    "# Configure logging"
   ]
  },
  {
   "cell_type": "code",
   "execution_count": null,
   "id": "cc02d577",
   "metadata": {},
   "outputs": [],
   "source": [
    "s.configure_logging('DEBUG')"
   ]
  },
  {
   "cell_type": "code",
   "execution_count": null,
   "id": "0df71e0d",
   "metadata": {},
   "outputs": [],
   "source": [
    "s.configure_logging('INFO')"
   ]
  },
  {
   "cell_type": "markdown",
   "id": "3a5b1644",
   "metadata": {},
   "source": [
    "# Clear business "
   ]
  },
  {
   "cell_type": "code",
   "execution_count": null,
   "id": "147e53f4",
   "metadata": {},
   "outputs": [],
   "source": [
    "app_ids = s.business.get_business_app_ids(uuid=business_id)\n",
    "for app_id in app_ids:\n",
    "    print('this', app_ids)\n",
    "    s.app.delete_all_app_activities(uuid=app_id)\n",
    "        \n",
    "s.business.delete_all_business_apps(uuid=business_id)\n",
    "s.business.delete_all_business_dashboards(uuid=business_id)"
   ]
  },
  {
   "cell_type": "markdown",
   "id": "0d67c545",
   "metadata": {},
   "source": [
    "# Indicators test"
   ]
  },
  {
   "cell_type": "code",
   "execution_count": null,
   "id": "d2134e92",
   "metadata": {},
   "outputs": [],
   "source": [
    "s.set_menu_path('test-jp/indicator-test')\n",
    "data_ = [\n",
    "    {\n",
    "        \"description\": \"\",\n",
    "        \"title\": \"Estado\",\n",
    "        \"value\": \"Abierto\",\n",
    "        \"align\": \"center\",\n",
    "    },\n",
    "    {\n",
    "        \"description\": \"\",\n",
    "        \"title\": \"Price ($)\",\n",
    "        \"value\": \"455\",\n",
    "        \"color\": \"success\",\n",
    "    },\n",
    "    {\n",
    "        \"description\": \"this is a description\",\n",
    "        \"title\": \"Volumen\",\n",
    "        \"value\": \"41153\"\n",
    "    },\n",
    "    {\n",
    "        \"description\": \"\",\n",
    "        \"title\": \"Cambio €/$\",\n",
    "        \"value\": \"1.1946\",\n",
    "    },\n",
    "]\n",
    "order = s.plt.indicator(data=data_, order=0)\n",
    "order = s.plt.indicator(data=data_ + data_[2:], order=order)"
   ]
  },
  {
   "cell_type": "markdown",
   "id": "17f89c3e",
   "metadata": {},
   "source": [
    "# Bars"
   ]
  },
  {
   "cell_type": "code",
   "execution_count": null,
   "id": "63ac134f",
   "metadata": {},
   "outputs": [],
   "source": [
    "s.set_menu_path('test-jp/bar-test')\n",
    "data_ = [{'date': dt.date(2021, 1, 1), 'x': 50000000, 'y': 5},\n",
    "         {'date': dt.date(2021, 1, 2), 'x': 60000000, 'y': 5},\n",
    "         {'date': dt.date(2021, 1, 3), 'x': 40000000, 'y': 5},\n",
    "         {'date': dt.date(2021, 1, 4), 'x': 70000000, 'y': 5},\n",
    "         {'date': dt.date(2021, 1, 5), 'x': 30000000, 'y': 5}]\n",
    "s.plt.bar(\n",
    "    data=data_, x='date', y=['x', 'y'],\n",
    "    x_axis_name='Date', y_axis_name='Revenue',\n",
    "    order=0, rows_size=2,\n",
    "    cols_size=12,\n",
    ")"
   ]
  },
  {
   "cell_type": "markdown",
   "id": "329ab7b3",
   "metadata": {},
   "source": [
    "# Executing the task pool"
   ]
  },
  {
   "cell_type": "code",
   "execution_count": null,
   "id": "b16e5b64",
   "metadata": {
    "scrolled": true
   },
   "outputs": [],
   "source": [
    "s.run()"
   ]
  },
  {
   "cell_type": "markdown",
   "id": "bf639f16",
   "metadata": {},
   "source": [
    "# Get apps and reports"
   ]
  },
  {
   "cell_type": "code",
   "execution_count": null,
   "id": "fb0c209f",
   "metadata": {},
   "outputs": [],
   "source": [
    "s.configure_logging('WARNING')\n",
    "for app in s.business.get_business_apps(uuid=business_id):\n",
    "    print('App', app['name'])\n",
    "    for report in s.app.get_app_reports(uuid=app['id']):\n",
    "        print('Report', report['properties']['hash'])\n",
    "s.configure_logging('INFO')"
   ]
  }
 ],
 "metadata": {
  "kernelspec": {
   "display_name": "Python 3 (ipykernel)",
   "language": "python",
   "name": "python3"
  },
  "language_info": {
   "codemirror_mode": {
    "name": "ipython",
    "version": 3
   },
   "file_extension": ".py",
   "mimetype": "text/x-python",
   "name": "python",
   "nbconvert_exporter": "python",
   "pygments_lexer": "ipython3",
   "version": "3.9.13"
  }
 },
 "nbformat": 4,
 "nbformat_minor": 5
}
